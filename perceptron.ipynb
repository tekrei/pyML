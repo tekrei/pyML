{
 "cells": [
  {
   "cell_type": "markdown",
   "id": "hydraulic-northern",
   "metadata": {},
   "source": [
    "# Perceptron\n",
    "\n",
    "A simple implementation of the perceptron and perceptron learning by [M. Tim Jones](https://github.com/mtimjones/perceptron).\n",
    "\n",
    "Python code by [tekrei](https://github.com/tekrei)."
   ]
  },
  {
   "cell_type": "code",
   "execution_count": null,
   "id": "developed-grace",
   "metadata": {},
   "outputs": [],
   "source": [
    "from utility import Perceptron"
   ]
  },
  {
   "cell_type": "markdown",
   "id": "treated-mixer",
   "metadata": {},
   "source": [
    "## Test with boolean OR set"
   ]
  },
  {
   "cell_type": "code",
   "execution_count": null,
   "id": "seasonal-islam",
   "metadata": {},
   "outputs": [],
   "source": [
    "test = [[0, 0], [0, 1], [1, 0], [1, 1]]"
   ]
  },
  {
   "cell_type": "code",
   "execution_count": null,
   "id": "artistic-slovenia",
   "metadata": {},
   "outputs": [],
   "source": [
    "perceptron = Perceptron()"
   ]
  },
  {
   "cell_type": "markdown",
   "id": "appreciated-anger",
   "metadata": {},
   "source": [
    "### Initialize weights for two inputs and a bias"
   ]
  },
  {
   "cell_type": "code",
   "execution_count": null,
   "id": "declared-musician",
   "metadata": {},
   "outputs": [],
   "source": [
    "perceptron.initialize(3)\n",
    "print(\n",
    "    f\"initialized weights {perceptron.weights[0]} {perceptron.weights[1]} bias {perceptron.weights[2]}\"\n",
    ")"
   ]
  },
  {
   "cell_type": "markdown",
   "id": "foreign-repeat",
   "metadata": {},
   "source": [
    "### Train the perceptron\n",
    "Using test data, learning rate and maximum iteration count"
   ]
  },
  {
   "cell_type": "code",
   "execution_count": null,
   "id": "electrical-ensemble",
   "metadata": {},
   "outputs": [],
   "source": [
    "perceptron.train(test, 0.1, 10)\n",
    "print(\n",
    "    f\"final weights {perceptron.weights[0]} {perceptron.weights[1]} bias {perceptron.weights[2]}\"\n",
    ")"
   ]
  }
 ],
 "metadata": {
  "kernelspec": {
   "display_name": "Python 3 (ipykernel)",
   "language": "python",
   "name": "python3"
  },
  "language_info": {
   "codemirror_mode": {
    "name": "ipython",
    "version": 3
   },
   "file_extension": ".py",
   "mimetype": "text/x-python",
   "name": "python",
   "nbconvert_exporter": "python",
   "pygments_lexer": "ipython3",
   "version": "3.11.6"
  }
 },
 "nbformat": 4,
 "nbformat_minor": 5
}
