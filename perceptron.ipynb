{
 "cells": [
  {
   "cell_type": "markdown",
   "id": "hydraulic-northern",
   "metadata": {},
   "source": [
    "# Perceptron\n",
    "\n",
    "A simple implementation of the perceptron and perceptron learning by [M. Tim Jones](https://github.com/mtimjones/perceptron).\n",
    "\n",
    "Python code by tekrei."
   ]
  },
  {
   "cell_type": "code",
   "execution_count": null,
   "id": "developed-grace",
   "metadata": {},
   "outputs": [],
   "source": [
    "from random import random"
   ]
  },
  {
   "cell_type": "code",
   "execution_count": null,
   "id": "afraid-undergraduate",
   "metadata": {},
   "outputs": [],
   "source": [
    "class Perceptron:\n",
    "    def initialize(self, wsize):\n",
    "        # initialize the weights with random values\n",
    "        self.weights = []\n",
    "        for i in range(wsize):\n",
    "            self.weights.append(random())\n",
    "\n",
    "    def feedforward(self, inputs):\n",
    "        total_sum = 0.0\n",
    "        # calculate inputs * weights\n",
    "        for i in range(len(inputs)):\n",
    "            total_sum += self.weights[i] * inputs[i]\n",
    "        # add in the bias\n",
    "        total_sum += self.weights[i]\n",
    "        # activation function (1 if value >= 1.0)\n",
    "        if total_sum >= 1.0:\n",
    "            return 1\n",
    "        return 0\n",
    "\n",
    "    def train(self, test, learning_rate, max_iter):\n",
    "        current = 0\n",
    "        while True:\n",
    "            iteration_error = 0.0\n",
    "            print(f\"Current iteration: {current}\")\n",
    "            for i in range(len(test)):\n",
    "                desired_output = test[i][0] or test[i][1]\n",
    "                output = self.feedforward(test[i])\n",
    "                error = desired_output - output\n",
    "                print(f\"\\t{test[i][0]} or {test[i][1]} = {output} ({desired_output})\")\n",
    "                self.weights[0] += learning_rate * (error * test[i][0])\n",
    "                self.weights[1] += learning_rate * (error * test[i][1])\n",
    "                self.weights[2] += learning_rate * error\n",
    "                iteration_error += error * error\n",
    "            print(f\"Iteration error {iteration_error}\")\n",
    "            current += 1\n",
    "            if (iteration_error <= 0) or (current > max_iter):\n",
    "                break"
   ]
  },
  {
   "cell_type": "markdown",
   "id": "treated-mixer",
   "metadata": {},
   "source": [
    "## Test with boolean OR set"
   ]
  },
  {
   "cell_type": "code",
   "execution_count": null,
   "id": "seasonal-islam",
   "metadata": {},
   "outputs": [],
   "source": [
    "test = [[0, 0], [0, 1], [1, 0], [1, 1]]"
   ]
  },
  {
   "cell_type": "code",
   "execution_count": null,
   "id": "artistic-slovenia",
   "metadata": {},
   "outputs": [],
   "source": [
    "perceptron = Perceptron()"
   ]
  },
  {
   "cell_type": "markdown",
   "id": "appreciated-anger",
   "metadata": {},
   "source": [
    "### Initialize weights for two inputs and a bias"
   ]
  },
  {
   "cell_type": "code",
   "execution_count": null,
   "id": "declared-musician",
   "metadata": {},
   "outputs": [],
   "source": [
    "perceptron.initialize(3)\n",
    "print(\n",
    "    f\"initialized weights {perceptron.weights[0]} {perceptron.weights[1]} bias {perceptron.weights[2]}\"\n",
    ")"
   ]
  },
  {
   "cell_type": "markdown",
   "id": "foreign-repeat",
   "metadata": {},
   "source": [
    "### Train the perceptron\n",
    "Using test data, learning rate and maximum iteration count"
   ]
  },
  {
   "cell_type": "code",
   "execution_count": null,
   "id": "electrical-ensemble",
   "metadata": {},
   "outputs": [],
   "source": [
    "perceptron.train(test, 0.1, 10)\n",
    "print(\n",
    "    f\"final weights {perceptron.weights[0]} {perceptron.weights[1]} bias {perceptron.weights[2]}\"\n",
    ")"
   ]
  }
 ],
 "metadata": {
  "kernelspec": {
   "display_name": "Python 3",
   "language": "python",
   "name": "python3"
  },
  "language_info": {
   "codemirror_mode": {
    "name": "ipython",
    "version": 3
   },
   "file_extension": ".py",
   "mimetype": "text/x-python",
   "name": "python",
   "nbconvert_exporter": "python",
   "pygments_lexer": "ipython3",
   "version": "3.8.6"
  }
 },
 "nbformat": 4,
 "nbformat_minor": 5
}
