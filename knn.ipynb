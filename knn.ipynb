{
 "cells": [
  {
   "cell_type": "markdown",
   "id": "sophisticated-clothing",
   "metadata": {},
   "source": [
    "# k-Nearest Neighbors implementation\n",
    "\n",
    "- Doesn't use any library to perform KNN.\n",
    "- Uses scikit-learn library for calculating various metrics and confusion matrix.\n",
    "\n",
    "It is possible to provide file name, k value and training-test data split ratio as arguments such as the following:\n",
    "        python knn.py data/iris.csv 5 0.67\n",
    "\n",
    "It is tested with the following example data sets:\n",
    "- [arrhythmia](./data/arrhythmia.csv): missed values replaced by -1 (https://archive.ics.uci.edu/ml/datasets/Arrhythmia)\n",
    "- [banknote](./data/banknote.csv): nothing changed, converted to CSV (https://archive.ics.uci.edu/ml/datasets/banknote+authentication)\n",
    "- [forestfires](./data/forestfires.csv): categorical values (mon, day) are converted to numeric values, all values larger than 0 are converted to 1 in burned area column (https://archive.ics.uci.edu/ml/datasets/Forest+Fires)\n",
    "- [iris](./data/iris.csv): categorical result value are converted to numeric values (https://archive.ics.uci.edu/ml/datasets/Iris)\n",
    "- [lung-cancer](./data/lung-cancer.csv): moved target values to the last column, missed values replaced by -1 (https://archive.ics.uci.edu/ml/datasets/Lung+Cancer)\n",
    "- [phishing-websites](./data/phishing-websites.csv): nothing changed, converted to CSV without header (https://archive.ics.uci.edu/ml/datasets/Phishing+Websites)\n",
    "\n",
    "The main source for the code is the following tutorial: [Develop k-Nearest Neighbors in Python From Scratch](http://machinelearningmastery.com/tutorial-to-implement-k-nearest-neighbors-in-python-from-scratch/)"
   ]
  },
  {
   "cell_type": "code",
   "execution_count": null,
   "id": "desirable-electron",
   "metadata": {},
   "outputs": [],
   "source": [
    "from operator import itemgetter\n",
    "from utility import display, euclidean, load_dataset, split_dataset"
   ]
  },
  {
   "cell_type": "markdown",
   "id": "flexible-italic",
   "metadata": {},
   "source": [
    "## Locate the most similar neighbors"
   ]
  },
  {
   "cell_type": "code",
   "execution_count": null,
   "id": "offshore-january",
   "metadata": {},
   "outputs": [],
   "source": [
    "def get_neighbors(training, test, k):\n",
    "    distances = {}\n",
    "    for x in range(len(training)):\n",
    "        dist = euclidean(test, training[x])\n",
    "        distances[x] = dist\n",
    "    distances = sorted(distances.items(), key=itemgetter(1))\n",
    "    neighbors = []\n",
    "    for _ in range(k):\n",
    "        neighbors.append(distances.pop()[0])\n",
    "    return neighbors"
   ]
  },
  {
   "cell_type": "markdown",
   "id": "associate-shield",
   "metadata": {},
   "source": [
    "## Make a classification prediction with neighbors"
   ]
  },
  {
   "cell_type": "code",
   "execution_count": null,
   "id": "starting-queue",
   "metadata": {},
   "outputs": [],
   "source": [
    "def predict(neighbors, target):\n",
    "    class_votes = {}\n",
    "    for x in neighbors:\n",
    "        response = target[x]\n",
    "        if response in class_votes:\n",
    "            class_votes[response] += 1\n",
    "        else:\n",
    "            class_votes[response] = 1\n",
    "    sorted_votes = sorted(class_votes.items(),\n",
    "                          key=itemgetter(1), reverse=True)\n",
    "    return sorted_votes[0][0]"
   ]
  },
  {
   "cell_type": "markdown",
   "id": "prescription-texture",
   "metadata": {},
   "source": [
    "## Load data"
   ]
  },
  {
   "cell_type": "code",
   "execution_count": null,
   "id": "expired-fetish",
   "metadata": {},
   "outputs": [],
   "source": [
    "dataset, target = load_dataset(\"data/forestfires.csv\")"
   ]
  },
  {
   "cell_type": "markdown",
   "id": "optimum-proxy",
   "metadata": {},
   "source": [
    "## Split data"
   ]
  },
  {
   "cell_type": "code",
   "execution_count": null,
   "id": "directed-heart",
   "metadata": {},
   "outputs": [],
   "source": [
    "train_x, train_y, test_x, test_y = split_dataset(dataset, target, 0.8)\n",
    "print(\"Training set size: %d\" % (len(train_x)))\n",
    "print(\"Testing set size: %d\" % (len(test_x)))"
   ]
  },
  {
   "cell_type": "markdown",
   "id": "violent-review",
   "metadata": {},
   "source": [
    "## Predict"
   ]
  },
  {
   "cell_type": "code",
   "execution_count": null,
   "id": "cognitive-coral",
   "metadata": {},
   "outputs": [],
   "source": [
    "predictions = []\n",
    "actual = []\n",
    "for x in range(len(test_x)):\n",
    "    neighbors = get_neighbors(train_x, test_x[x], 5)\n",
    "    result = predict(neighbors, train_y)\n",
    "    predictions.append(result)\n",
    "    actual.append(test_y[x])"
   ]
  },
  {
   "cell_type": "markdown",
   "id": "superb-exhaust",
   "metadata": {},
   "source": [
    "## Calculate and display scores"
   ]
  },
  {
   "cell_type": "code",
   "execution_count": null,
   "id": "occasional-distance",
   "metadata": {},
   "outputs": [],
   "source": [
    "display(actual, predictions)"
   ]
  }
 ],
 "metadata": {
  "kernelspec": {
   "display_name": "Python 3",
   "language": "python",
   "name": "python3"
  },
  "language_info": {
   "codemirror_mode": {
    "name": "ipython",
    "version": 3
   },
   "file_extension": ".py",
   "mimetype": "text/x-python",
   "name": "python",
   "nbconvert_exporter": "python",
   "pygments_lexer": "ipython3",
   "version": "3.8.6"
  }
 },
 "nbformat": 4,
 "nbformat_minor": 5
}
