{
 "cells": [
  {
   "cell_type": "markdown",
   "id": "regulated-screw",
   "metadata": {},
   "source": [
    "# Linear Regression\n",
    "\n",
    "Example from [Introduction to Computation and Programming Using Python](https://mitpress.mit.edu/books/introduction-computation-and-programming-using-python-revised-and-expanded-edition)"
   ]
  },
  {
   "cell_type": "code",
   "execution_count": null,
   "id": "weird-principal",
   "metadata": {},
   "outputs": [],
   "source": [
    "import matplotlib.pyplot as plot\n",
    "from numpy import (\n",
    "    array,\n",
    "    asarray,\n",
    "    correlate,\n",
    "    cov,\n",
    "    genfromtxt,\n",
    "    mean,\n",
    "    median,\n",
    "    polyfit,\n",
    "    std,\n",
    "    var,\n",
    ")\n",
    "from scipy.stats import linregress"
   ]
  },
  {
   "cell_type": "markdown",
   "id": "textile-going",
   "metadata": {},
   "source": [
    "## Calculate regression line using linear fit _y = ax + b_"
   ]
  },
  {
   "cell_type": "code",
   "execution_count": null,
   "id": "expired-istanbul",
   "metadata": {},
   "outputs": [],
   "source": [
    "def linear_fit_byhand(x_vals, y_vals):\n",
    "    x_sum = sum(x_vals)\n",
    "    y_sum = sum(y_vals)\n",
    "    xy_sum = sum(x_vals * y_vals)\n",
    "    xsquare_sum = sum(x_vals**2)\n",
    "    count = len(x_vals)\n",
    "\n",
    "    # y = ax + b\n",
    "    # a = (NΣXY - (ΣX)(ΣY)) / (NΣX^2 - (ΣX)^2)\n",
    "    a_value = ((count * xy_sum) - (x_sum * y_sum)) / (\n",
    "        (count * xsquare_sum) - x_sum**2\n",
    "    )\n",
    "    # b =  (ΣY - b(ΣX)) / N\n",
    "    b_value = (y_sum - a_value * x_sum) / count\n",
    "    est_yvals = a_value * x_vals + b_value\n",
    "    # calculate spring constant\n",
    "    k = 1 / a_value\n",
    "    # plot regression line\n",
    "    plot.plot(\n",
    "        x_vals,\n",
    "        est_yvals,\n",
    "        label=\"Linear fit by hand, k = \"\n",
    "        + str(round(k))\n",
    "        + \", RSquare = \"\n",
    "        + str(r_square(y_vals, est_yvals)),\n",
    "    )"
   ]
  },
  {
   "cell_type": "markdown",
   "id": "sharp-scotland",
   "metadata": {},
   "source": [
    "## Least-squares regression of scipy"
   ]
  },
  {
   "cell_type": "code",
   "execution_count": null,
   "id": "authentic-welding",
   "metadata": {},
   "outputs": [],
   "source": [
    "def linear_regression(x_vals, y_vals):\n",
    "    a_value, b_value, r_value, p_value, std_err = linregress(x_vals, y_vals)\n",
    "    est_yvals = a_value * x_vals + b_value\n",
    "    k = 1 / a_value\n",
    "    plot.plot(\n",
    "        x_vals,\n",
    "        est_yvals,\n",
    "        label=\"Least-squares fit, k = \"\n",
    "        + str(round(k))\n",
    "        + \", RSquare = \"\n",
    "        + str(r_value**2),\n",
    "    )"
   ]
  },
  {
   "cell_type": "markdown",
   "id": "challenging-harvest",
   "metadata": {},
   "source": [
    "## Calculate regression line using linear fit _y = ax + b_"
   ]
  },
  {
   "cell_type": "code",
   "execution_count": null,
   "id": "aggregate-sunglasses",
   "metadata": {},
   "outputs": [],
   "source": [
    "def linear_fit(x_vals, y_vals):\n",
    "    a_value, b_value = polyfit(x_vals, y_vals, 1)\n",
    "    est_yvals = a_value * array(x_vals) + b_value\n",
    "    # calculate spring constant\n",
    "    k = 1 / a_value\n",
    "    # plot regression line\n",
    "    plot.plot(\n",
    "        x_vals,\n",
    "        est_yvals,\n",
    "        label=\"Linear fit, k = \"\n",
    "        + str(round(k))\n",
    "        + \", RSquare = \"\n",
    "        + str(r_square(y_vals, est_yvals)),\n",
    "    )"
   ]
  },
  {
   "cell_type": "markdown",
   "id": "foreign-chapter",
   "metadata": {},
   "source": [
    "## Calculate quadratic fit _ax^2+bx+c_"
   ]
  },
  {
   "cell_type": "code",
   "execution_count": null,
   "id": "psychological-camcorder",
   "metadata": {},
   "outputs": [],
   "source": [
    "def quadratic_fit(x_vals, y_vals):\n",
    "    a_value, b_value, c_value = polyfit(x_vals, y_vals, 2)\n",
    "    est_yvals = a_value * (x_vals**2) + b_value * (x_vals) + c_value\n",
    "    plot.plot(\n",
    "        x_vals,\n",
    "        est_yvals,\n",
    "        label=\"Quadratic fit, RSquare = \" + str(r_square(y_vals, est_yvals)),\n",
    "    )"
   ]
  },
  {
   "cell_type": "markdown",
   "id": "miniature-retailer",
   "metadata": {},
   "source": [
    "## Calculate cubic fit _ax^3+bx^2+cx+d_"
   ]
  },
  {
   "cell_type": "code",
   "execution_count": null,
   "id": "cardiovascular-being",
   "metadata": {},
   "outputs": [],
   "source": [
    "def cubic_fit(x_vals, y_vals):\n",
    "    a_value, b_value, c_value, d_value = polyfit(x_vals, y_vals, 3)\n",
    "    est_yvals = a_value * (x_vals**3) + b_value * (x_vals**2)\n",
    "    est_yvals += c_value * x_vals + d_value\n",
    "    plot.plot(\n",
    "        x_vals,\n",
    "        est_yvals,\n",
    "        label=\"Cubic fit, RSquare = \" + str(r_square(y_vals, est_yvals)),\n",
    "    )"
   ]
  },
  {
   "cell_type": "markdown",
   "id": "mysterious-inquiry",
   "metadata": {},
   "source": [
    "## Method to display summary statistics"
   ]
  },
  {
   "cell_type": "code",
   "execution_count": null,
   "id": "incorporate-subdivision",
   "metadata": {},
   "outputs": [],
   "source": [
    "def display_statistics(x_vals, y_vals):\n",
    "    print(\"Mean(x)=%s Mean(Y)=%s\" % (mean(x_vals), mean(y_vals)))\n",
    "    print(\"Median(x)=%s Median(Y)=%s\" % (median(x_vals), median(y_vals)))\n",
    "    print(\"StdDev(x)=%s StdDev(Y)=%s\" % (std(x_vals), std(y_vals)))\n",
    "    print(\"Var(x)=%s Var(Y)=%s\" % (var(x_vals), var(y_vals)))\n",
    "    print(\"Cov(x,y)=%s\" % cov(x_vals, y_vals))\n",
    "    print(\"Cor(x,y)=%s\" % correlate(x_vals, y_vals))"
   ]
  },
  {
   "cell_type": "markdown",
   "id": "conscious-database",
   "metadata": {},
   "source": [
    "## Plot data (x and y values) together with regression lines"
   ]
  },
  {
   "cell_type": "code",
   "execution_count": null,
   "id": "prerequisite-islam",
   "metadata": {},
   "outputs": [],
   "source": [
    "def plot_data(vals):\n",
    "    x_vals = asarray([i[0] * 9.81 for i in vals])\n",
    "    y_vals = asarray([i[1] for i in vals])\n",
    "\n",
    "    # plot measurement values\n",
    "    plot.plot(x_vals, y_vals, \"bo\", label=\"Measured displacements\")\n",
    "    plot.title(\"Measurement Displacement of Spring\", fontsize=\"x-large\")\n",
    "    plot.xlabel(\"|Force| (Newtons)\")\n",
    "    plot.ylabel(\"Distance (meters)\")\n",
    "    linear_fit_byhand(x_vals, y_vals)\n",
    "    linear_fit(x_vals, y_vals)\n",
    "    linear_regression(x_vals, y_vals)\n",
    "    quadratic_fit(x_vals, y_vals)\n",
    "    cubic_fit(x_vals, y_vals)\n",
    "    display_statistics(x_vals, y_vals)"
   ]
  },
  {
   "cell_type": "markdown",
   "id": "amazing-ghana",
   "metadata": {},
   "source": [
    "## Calculate Coefficient of Determination (R^2)\n",
    "\n",
    "Takes `measured` and `estimated` one dimensional arrays:\n",
    "\n",
    "- `measured` is the one dimensional array of measured values\n",
    "- `estimated` is the one dimensional array of predicted values\n",
    "\n",
    "and calculates\n",
    "\n",
    "$$R^2$$\n",
    "\n",
    "where\n",
    "\n",
    "$$R^2=1-\\frac{EE}{MV}$$\n",
    "\n",
    "and \n",
    "\n",
    "$$0 \\leq R^2 \\leq 1$$.\n",
    "\n",
    "- `EE` is the estimated error\n",
    "- `MV` is the variance of the actual data\n",
    "\n",
    "|Result    |Interpretation|\n",
    "|---------|--------------|\n",
    "|$$R^2=1$$| the model explains all of the variability in the data    |\n",
    "|$$R^2=0$$| there is no linear relationship |"
   ]
  },
  {
   "cell_type": "code",
   "execution_count": null,
   "id": "honey-salvation",
   "metadata": {},
   "outputs": [],
   "source": [
    "def r_square(measured, estimated):\n",
    "    estimated_error = ((estimated - measured) ** 2).sum()\n",
    "    m_mean = measured.sum() / float(len(measured))\n",
    "    m_variance = ((m_mean - measured) ** 2).sum()\n",
    "    return 1 - (estimated_error / m_variance)"
   ]
  },
  {
   "cell_type": "markdown",
   "id": "crucial-algeria",
   "metadata": {},
   "source": [
    "## Test the equations"
   ]
  },
  {
   "cell_type": "code",
   "execution_count": null,
   "id": "alive-intake",
   "metadata": {},
   "outputs": [],
   "source": [
    "plot_data(genfromtxt(\"data/spring.csv\", delimiter=\",\"))\n",
    "plot.legend(loc=\"best\")\n",
    "plot.tight_layout()\n",
    "plot.show()"
   ]
  }
 ],
 "metadata": {
  "kernelspec": {
   "display_name": "Python 3 (ipykernel)",
   "language": "python",
   "name": "python3"
  },
  "language_info": {
   "codemirror_mode": {
    "name": "ipython",
    "version": 3
   },
   "file_extension": ".py",
   "mimetype": "text/x-python",
   "name": "python",
   "nbconvert_exporter": "python",
   "pygments_lexer": "ipython3",
   "version": "3.11.6"
  }
 },
 "nbformat": 4,
 "nbformat_minor": 5
}
