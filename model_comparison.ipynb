{
 "cells": [
  {
   "cell_type": "markdown",
   "id": "spoken-poster",
   "metadata": {},
   "source": [
    "# Comparison of various classification models\n",
    "\n",
    "It is using the [Credit Card Fraud Dectection dataset](https://www.kaggle.com/dalpozz/creditcardfraud) from [Kaggle](https://www.kaggle.com/)."
   ]
  },
  {
   "cell_type": "code",
   "execution_count": null,
   "id": "established-shame",
   "metadata": {},
   "outputs": [],
   "source": [
    "from os.path import isfile\n",
    "from time import time\n",
    "from urllib.request import urlretrieve\n",
    "\n",
    "from sklearn.ensemble import AdaBoostClassifier, RandomForestClassifier\n",
    "from sklearn.linear_model import SGDClassifier\n",
    "from sklearn.model_selection import train_test_split\n",
    "from sklearn.naive_bayes import GaussianNB\n",
    "from sklearn.neighbors import KNeighborsClassifier\n",
    "from sklearn.neural_network import MLPClassifier\n",
    "from sklearn.svm import SVC\n",
    "from sklearn.tree import DecisionTreeClassifier\n",
    "\n",
    "from utility import *"
   ]
  },
  {
   "cell_type": "markdown",
   "id": "capital-above",
   "metadata": {},
   "source": [
    "## Load and Split Data"
   ]
  },
  {
   "cell_type": "code",
   "execution_count": null,
   "id": "afraid-outline",
   "metadata": {},
   "outputs": [],
   "source": [
    "start = time()\n",
    "data_file = \"data/creditcard.csv\"\n",
    "# check if file exists\n",
    "if not isfile(data_file):\n",
    "    try:\n",
    "        # download the data set\n",
    "        # Note: it is around 180MB\n",
    "        data_url = \"https://github.com/nsethi31/Kaggle-Data-Credit-Card-Fraud-Detection/raw/master/creditcard.csv\"\n",
    "        urlretrieve(data_url, data_file)\n",
    "        print(f\"Downloaded data file to {data_file}\")\n",
    "    except Error:\n",
    "        print(\"Can't access or download the data set\")\n",
    "        print(\"Please try to download it manually and put into data/creditcard.csv\")\n",
    "        sys.exit()\n",
    "dataset, target = load_dataset(data_file)\n",
    "print(f\"Loaded data in {(time() - start)} seconds\")"
   ]
  },
  {
   "cell_type": "markdown",
   "id": "express-personality",
   "metadata": {},
   "source": [
    "## Prepare data for models"
   ]
  },
  {
   "cell_type": "code",
   "execution_count": null,
   "id": "first-millennium",
   "metadata": {},
   "outputs": [],
   "source": [
    "start = time()\n",
    "x_train, x_test, y_train, y_test = train_test_split(\n",
    "    dataset, target, test_size=0.2, random_state=42\n",
    ")\n",
    "print(f\"Training set size {len(x_train)}, Testing set size: {len(x_test)}\")\n",
    "print(f\"Prepared data for models in {(time() - start)} seconds\")"
   ]
  },
  {
   "cell_type": "markdown",
   "id": "metropolitan-circular",
   "metadata": {},
   "source": [
    "## Run models over data"
   ]
  },
  {
   "cell_type": "code",
   "execution_count": null,
   "id": "composite-canada",
   "metadata": {},
   "outputs": [],
   "source": [
    "scores = []\n",
    "models = {\n",
    "    \"GNB\": GaussianNB(),\n",
    "    \"DT\": DecisionTreeClassifier(max_depth=5),\n",
    "    \"MLP\": MLPClassifier(alpha=1.0),\n",
    "    # \"LSVC\": SVC(kernel=\"linear\", C=0.025), # very slow as there is too much data\n",
    "    \"NN\": KNeighborsClassifier(),\n",
    "    \"RF\": RandomForestClassifier(max_depth=5, n_estimators=10, max_features=1),\n",
    "    \"ABC\": AdaBoostClassifier(),\n",
    "    \"SGD\": SGDClassifier(),\n",
    "}\n",
    "names = []\n",
    "for k, model in models.items():\n",
    "    print(f\"Running {k}\")\n",
    "    start = time()\n",
    "    fitted_model = model.fit(x_train, y_train)\n",
    "    print(f\"Training time: {time() - start} seconds\")\n",
    "    start = time()\n",
    "    y_predicted = fitted_model.predict(x_test)\n",
    "    print(f\"Testing time: {time() - start} seconds\")\n",
    "    scores.append(display(y_test, y_predicted))\n",
    "    names.append(k)"
   ]
  },
  {
   "cell_type": "markdown",
   "id": "adopted-handy",
   "metadata": {},
   "source": [
    "## Scatter plot scores of all the models"
   ]
  },
  {
   "cell_type": "code",
   "execution_count": null,
   "id": "wireless-rates",
   "metadata": {},
   "outputs": [],
   "source": [
    "plot_scores(scores, names)"
   ]
  },
  {
   "cell_type": "code",
   "execution_count": null,
   "id": "dried-productivity",
   "metadata": {},
   "outputs": [],
   "source": []
  }
 ],
 "metadata": {
  "kernelspec": {
   "display_name": "Python 3",
   "language": "python",
   "name": "python3"
  },
  "language_info": {
   "codemirror_mode": {
    "name": "ipython",
    "version": 3
   },
   "file_extension": ".py",
   "mimetype": "text/x-python",
   "name": "python",
   "nbconvert_exporter": "python",
   "pygments_lexer": "ipython3",
   "version": "3.8.6"
  }
 },
 "nbformat": 4,
 "nbformat_minor": 5
}
