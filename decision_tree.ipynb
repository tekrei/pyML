{
 "cells": [
  {
   "cell_type": "markdown",
   "id": "greenhouse-floor",
   "metadata": {},
   "source": [
    "# Decision tree with cross validation\n",
    "\n",
    "It is tested with the following example data sets:\n",
    "- banknote\n",
    "- lung-cancer\n",
    "- pima-indians-diabetes\n",
    "- forestfires\n",
    "- phishing_websites Note: taking long time\n",
    "- arrhythmia        Note: taking long time\n",
    "\n",
    "Source: [How To Implement The Decision Tree Algorithm From Scratch In Python](http://machinelearningmastery.com/implement-decision-tree-algorithm-scratch-python/)"
   ]
  },
  {
   "cell_type": "code",
   "execution_count": null,
   "id": "conceptual-philadelphia",
   "metadata": {},
   "outputs": [],
   "source": [
    "from random import randrange\n",
    "from sklearn.metrics import accuracy_score\n",
    "from utility import *"
   ]
  },
  {
   "cell_type": "code",
   "execution_count": null,
   "id": "consolidated-longitude",
   "metadata": {},
   "outputs": [],
   "source": [
    "def cross_validation_split(dataset, n_folds):\n",
    "    dataset_split = list()\n",
    "    dataset_copy = list(dataset)\n",
    "    fold_size = int(len(dataset) / n_folds)\n",
    "    for i in range(n_folds):\n",
    "        fold = list()\n",
    "        while len(fold) < fold_size:\n",
    "            index = randrange(len(dataset_copy))\n",
    "            fold.append(dataset_copy.pop(index))\n",
    "        dataset_split.append(fold)\n",
    "    return dataset_split"
   ]
  },
  {
   "cell_type": "code",
   "execution_count": null,
   "id": "particular-porcelain",
   "metadata": {},
   "outputs": [],
   "source": [
    "def evaluate_algorithm(dataset, algorithm, n_folds, *args):\n",
    "    folds = cross_validation_split(dataset, n_folds)\n",
    "    scores = list()\n",
    "    for fold in folds:\n",
    "        train_set = sum([f for f in folds if f is not fold], [])\n",
    "        predictions = algorithm(train_set, fold.copy(), *args)\n",
    "        actual = [row[-1] for row in fold]\n",
    "        scores.append(accuracy_score(actual, predictions))\n",
    "    return scores"
   ]
  },
  {
   "cell_type": "markdown",
   "id": "scheduled-health",
   "metadata": {},
   "source": [
    "## Calculate the Gini index for a split dataset\n",
    "\n",
    "The Gini index is the name of the cost function used to evaluate splits in the dataset."
   ]
  },
  {
   "cell_type": "code",
   "execution_count": null,
   "id": "tropical-spending",
   "metadata": {},
   "outputs": [],
   "source": [
    "def gini_index(groups, classes):\n",
    "    # count all samples at split point\n",
    "    n_instances = float(sum([len(group) for group in groups]))\n",
    "    # sum weighted Gini index for each group\n",
    "    gini = 0.0\n",
    "    for group in groups:\n",
    "        size = float(len(group))\n",
    "        # avoid divide by zero\n",
    "        if size == 0:\n",
    "            continue\n",
    "        score = 0.0\n",
    "        # score the group based on the score for each class\n",
    "        for class_val in classes:\n",
    "            p = [row[-1] for row in group].count(class_val) / size\n",
    "            score += p * p\n",
    "        # weight the group score by its relative size\n",
    "        gini += (1.0 - score) * (size / n_instances)\n",
    "    return gini"
   ]
  },
  {
   "cell_type": "markdown",
   "id": "planned-advertiser",
   "metadata": {},
   "source": [
    "## Split a dataset based on an attribute and an attribute value"
   ]
  },
  {
   "cell_type": "code",
   "execution_count": null,
   "id": "referenced-compiler",
   "metadata": {},
   "outputs": [],
   "source": [
    "def test_split(index, value, dataset):\n",
    "    left, right = list(), list()\n",
    "    for row in dataset:\n",
    "        if row[index] < value:\n",
    "            left.append(row)\n",
    "        else:\n",
    "            right.append(row)\n",
    "    return left, right"
   ]
  },
  {
   "cell_type": "markdown",
   "id": "suitable-accountability",
   "metadata": {},
   "source": [
    "## Select the best split point for a dataset"
   ]
  },
  {
   "cell_type": "code",
   "execution_count": null,
   "id": "selective-retention",
   "metadata": {},
   "outputs": [],
   "source": [
    "def get_split(dataset):\n",
    "    class_values = {row[-1] for row in dataset}\n",
    "    b_index, b_value, b_score, b_groups = 999, 999, 999, None\n",
    "    for index in range(len(dataset[0]) - 1):\n",
    "        for row in dataset:\n",
    "            groups = test_split(index, row[index], dataset)\n",
    "            gini = gini_index(groups, class_values)\n",
    "            if gini < b_score:\n",
    "                b_index, b_value, b_score, b_groups = index, row[index], gini, groups\n",
    "    return {\"index\": b_index, \"value\": b_value, \"groups\": b_groups}"
   ]
  },
  {
   "cell_type": "markdown",
   "id": "legitimate-slave",
   "metadata": {},
   "source": [
    "## Create a terminal node value"
   ]
  },
  {
   "cell_type": "code",
   "execution_count": null,
   "id": "sharing-princess",
   "metadata": {},
   "outputs": [],
   "source": [
    "def to_terminal(group):\n",
    "    outcomes = [row[-1] for row in group]\n",
    "    return max(set(outcomes), key=outcomes.count)"
   ]
  },
  {
   "cell_type": "markdown",
   "id": "coated-campaign",
   "metadata": {},
   "source": [
    "## Create child splits for a node or make terminal"
   ]
  },
  {
   "cell_type": "code",
   "execution_count": null,
   "id": "tight-client",
   "metadata": {},
   "outputs": [],
   "source": [
    "def split(node, max_depth, min_size, depth):\n",
    "    left, right = node[\"groups\"]\n",
    "    del node[\"groups\"]\n",
    "    # check for a no split\n",
    "    if not left or not right:\n",
    "        node[\"left\"] = node[\"right\"] = to_terminal(left + right)\n",
    "        return\n",
    "    # check for max depth\n",
    "    if depth >= max_depth:\n",
    "        node[\"left\"], node[\"right\"] = to_terminal(left), to_terminal(right)\n",
    "        return\n",
    "    # process left child\n",
    "    if len(left) <= min_size:\n",
    "        node[\"left\"] = to_terminal(left)\n",
    "    else:\n",
    "        node[\"left\"] = get_split(left)\n",
    "        split(node[\"left\"], max_depth, min_size, depth + 1)\n",
    "    # process right child\n",
    "    if len(right) <= min_size:\n",
    "        node[\"right\"] = to_terminal(right)\n",
    "    else:\n",
    "        node[\"right\"] = get_split(right)\n",
    "        split(node[\"right\"], max_depth, min_size, depth + 1)"
   ]
  },
  {
   "cell_type": "markdown",
   "id": "caroline-singing",
   "metadata": {},
   "source": [
    "## Build a decision tree"
   ]
  },
  {
   "cell_type": "code",
   "execution_count": null,
   "id": "spare-cargo",
   "metadata": {},
   "outputs": [],
   "source": [
    "def build_tree(train, max_depth, min_size):\n",
    "    root = get_split(train)\n",
    "    split(root, max_depth, min_size, 1)\n",
    "    return root"
   ]
  },
  {
   "cell_type": "markdown",
   "id": "different-addiction",
   "metadata": {},
   "source": [
    "## Make a prediction with a decision tree"
   ]
  },
  {
   "cell_type": "code",
   "execution_count": null,
   "id": "indie-bennett",
   "metadata": {},
   "outputs": [],
   "source": [
    "def predict(node, row):\n",
    "    if row[node[\"index\"]] < node[\"value\"]:\n",
    "        if isinstance(node[\"left\"], dict):\n",
    "            return predict(node[\"left\"], row)\n",
    "        else:\n",
    "            return node[\"left\"]\n",
    "    else:\n",
    "        if isinstance(node[\"right\"], dict):\n",
    "            return predict(node[\"right\"], row)\n",
    "        else:\n",
    "            return node[\"right\"]"
   ]
  },
  {
   "cell_type": "markdown",
   "id": "early-cartridge",
   "metadata": {},
   "source": [
    "## Classification and Regression Tree Algorithm"
   ]
  },
  {
   "cell_type": "code",
   "execution_count": null,
   "id": "average-mambo",
   "metadata": {},
   "outputs": [],
   "source": [
    "def decision_tree(train, test, max_depth, min_size):\n",
    "    tree = build_tree(train, max_depth, min_size)\n",
    "    return [predict(tree, row) for row in test]"
   ]
  },
  {
   "cell_type": "markdown",
   "id": "instant-coverage",
   "metadata": {},
   "source": [
    "## Load and prepare data"
   ]
  },
  {
   "cell_type": "code",
   "execution_count": null,
   "id": "numeric-modern",
   "metadata": {},
   "outputs": [],
   "source": [
    "dataset = load_dataset(\"data/banknote.csv\", split=False)"
   ]
  },
  {
   "cell_type": "markdown",
   "id": "organized-credits",
   "metadata": {},
   "source": [
    "## Evaluate the decision tree"
   ]
  },
  {
   "cell_type": "code",
   "execution_count": null,
   "id": "outside-wichita",
   "metadata": {},
   "outputs": [],
   "source": [
    "# dataset, algorithm to run, number of folds, maximum depth, minimum size\n",
    "scores = evaluate_algorithm(dataset, decision_tree, 5, 5, 10)\n",
    "print('Scores: %s' % scores)\n",
    "print('Mean Accuracy: %.3f' % (sum(scores) / float(len(scores))))"
   ]
  }
 ],
 "metadata": {
  "kernelspec": {
   "display_name": "Python 3",
   "language": "python",
   "name": "python3"
  },
  "language_info": {
   "codemirror_mode": {
    "name": "ipython",
    "version": 3
   },
   "file_extension": ".py",
   "mimetype": "text/x-python",
   "name": "python",
   "nbconvert_exporter": "python",
   "pygments_lexer": "ipython3",
   "version": "3.8.6"
  }
 },
 "nbformat": 4,
 "nbformat_minor": 5
}
