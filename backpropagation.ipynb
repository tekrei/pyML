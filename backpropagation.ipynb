{
 "cells": [
  {
   "cell_type": "markdown",
   "id": "spoken-desktop",
   "metadata": {},
   "source": [
    "# Backpropagation\n",
    "\n",
    "Neural Network demonstration with Backpropagation learning and the Iris dataset by [M. Tim Jones](https://github.com/mtimjones/backprop)\n",
    "\n",
    "Python code by [tekrei](https://github.com/tekrei)"
   ]
  },
  {
   "cell_type": "code",
   "execution_count": null,
   "id": "working-dispatch",
   "metadata": {
    "scrolled": true
   },
   "outputs": [],
   "source": [
    "from utility import Backpropagation, load_dataset"
   ]
  },
  {
   "cell_type": "markdown",
   "id": "spectacular-percentage",
   "metadata": {},
   "source": [
    "Load dataset and target values"
   ]
  },
  {
   "cell_type": "code",
   "execution_count": null,
   "id": "orange-wrong",
   "metadata": {},
   "outputs": [],
   "source": [
    "dataset, target = load_dataset(\"data/iris.csv\", binarize=True)"
   ]
  },
  {
   "cell_type": "markdown",
   "id": "popular-dispatch",
   "metadata": {},
   "source": [
    "Create the Backpropagation object"
   ]
  },
  {
   "cell_type": "code",
   "execution_count": null,
   "id": "juvenile-penny",
   "metadata": {},
   "outputs": [],
   "source": [
    "nn = Backpropagation(dataset, target)"
   ]
  },
  {
   "cell_type": "markdown",
   "id": "contrary-dairy",
   "metadata": {},
   "source": [
    "Train the network"
   ]
  },
  {
   "cell_type": "code",
   "execution_count": null,
   "id": "aging-institution",
   "metadata": {},
   "outputs": [],
   "source": [
    "nn.train()"
   ]
  },
  {
   "cell_type": "markdown",
   "id": "pressed-regular",
   "metadata": {},
   "source": [
    "Test the network"
   ]
  },
  {
   "cell_type": "code",
   "execution_count": null,
   "id": "graduate-timeline",
   "metadata": {},
   "outputs": [],
   "source": [
    "nn.test()"
   ]
  }
 ],
 "metadata": {
  "kernelspec": {
   "display_name": "Python 3 (ipykernel)",
   "language": "python",
   "name": "python3"
  },
  "language_info": {
   "codemirror_mode": {
    "name": "ipython",
    "version": 3
   },
   "file_extension": ".py",
   "mimetype": "text/x-python",
   "name": "python",
   "nbconvert_exporter": "python",
   "pygments_lexer": "ipython3",
   "version": "3.11.6"
  }
 },
 "nbformat": 4,
 "nbformat_minor": 5
}
