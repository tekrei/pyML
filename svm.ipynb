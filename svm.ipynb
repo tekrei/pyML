{
 "cells": [
  {
   "cell_type": "markdown",
   "id": "valuable-password",
   "metadata": {},
   "source": [
    "# SVM\n",
    "\n",
    "Source: <https://towardsdatascience.com/svm-implementation-from-scratch-python-2db2fc52e5c2>"
   ]
  },
  {
   "cell_type": "code",
   "execution_count": null,
   "id": "brief-broad",
   "metadata": {},
   "outputs": [],
   "source": [
    "import matplotlib.pyplot as plot\n",
    "import numpy as np\n",
    "from utility import display, load_dataset, split_dataset, sigmoid\n",
    "from sklearn.svm import SVC\n",
    "from sklearn.utils import shuffle\n",
    "from sklearn.metrics import hinge_loss"
   ]
  },
  {
   "cell_type": "markdown",
   "id": "terminal-round",
   "metadata": {},
   "source": [
    "Backpropagation class defining the Neural Network"
   ]
  },
  {
   "cell_type": "code",
   "execution_count": null,
   "id": "greatest-syntax",
   "metadata": {},
   "outputs": [],
   "source": [
    "class SVM:\n",
    "    def __init__(self, verbose = False):\n",
    "        self.verbose = verbose\n",
    "        self.weights = np.zeros(0)\n",
    "        \n",
    "    @staticmethod\n",
    "    def cost(x, y, w, re):\n",
    "        # calculate hinge loss\n",
    "        n = x.shape[0]\n",
    "        distances = 1 - y * (np.dot(x, w))\n",
    "        distances[distances < 0] = 0  # equivalent to max(0, distance)\n",
    "        hinge_loss = re * (np.sum(distances) / n)\n",
    "\n",
    "        # calculate cost\n",
    "        cost = 1 / 2 * np.dot(w, w) + hinge_loss\n",
    "        return cost\n",
    "    \n",
    "    @staticmethod\n",
    "    def cost_gradient(bx, by, w, re):\n",
    "        distance = 1 - (by * np.dot(bx, w))\n",
    "        dw = np.zeros(len(w))\n",
    "        \n",
    "        for ind, d in enumerate(distance):\n",
    "            if max(0, d) == 0:\n",
    "                di = w\n",
    "            else:\n",
    "                di = w - (re * by[ind] * bx[ind])\n",
    "            dw += di\n",
    "        \n",
    "        dw = dw/len(by)\n",
    "        return dw\n",
    "\n",
    "    def next_batch(self, x, y, batch_size):\n",
    "        # loop over our dataset `X` in mini-batches of size `batchSize`\n",
    "        for i in np.arange(0, x.shape[0], batch_size):\n",
    "            # yield a tuple of the current batched data and labels\n",
    "            yield (x[i:i + batch_size], y[i:i + batch_size])\n",
    "\n",
    "    def fit(self, x, y, lr=0.05, epochs=10000, batch_size=100, e=1e-06, re=10000):\n",
    "        # weights initialization\n",
    "        self.weights = np.zeros(x.shape[1])\n",
    "        loss_values = []\n",
    "        \n",
    "        for i in range(epochs):\n",
    "            epoch_loss = []\n",
    "            for (bx, by) in self.next_batch(x, y, batch_size):\n",
    "                # calculate the gradient\n",
    "                gradient = self.cost_gradient(bx, by, self.weights, re)\n",
    "\n",
    "                # update weights\n",
    "                self.weights -= lr * gradient\n",
    "\n",
    "                # calculate the loss\n",
    "                loss = self.cost(bx, by, self.weights, re)\n",
    "                \n",
    "                # display loss\n",
    "                if self.verbose and i % 1000 == 0:\n",
    "                    print(f'loss in iteration {i} -> {loss} \\t')\n",
    "\n",
    "                # stoppage criterion\n",
    "                if len(epoch_loss) > 0 and abs(epoch_loss[-1] - loss) < e:\n",
    "                    return loss_values\n",
    "                    \n",
    "                # collect loss values\n",
    "                epoch_loss.append(loss)\n",
    "            loss_values.append(np.average(epoch_loss))\n",
    "\n",
    "        return loss_values\n",
    "\n",
    "    def calculate(self, x):\n",
    "        # Calculate x * W\n",
    "        z = np.dot(x, self.weights)\n",
    "        # Calculate the sigmoid\n",
    "        return sigmoid(z)\n",
    "\n",
    "    def predict(self, x):\n",
    "        # Predict using sigmoid calculation and return binary result\n",
    "        return self.calculate(x).round()"
   ]
  },
  {
   "cell_type": "markdown",
   "id": "broadband-typing",
   "metadata": {},
   "source": [
    "load training and test data from CSV file"
   ]
  },
  {
   "cell_type": "code",
   "execution_count": null,
   "id": "fourth-pickup",
   "metadata": {},
   "outputs": [],
   "source": [
    "dataset, target = load_dataset(\"data/banknote.csv\")\n",
    "train_x, train_y, test_x, test_y = split_dataset(dataset, target, 0.75)\n",
    "print(f\"Training set size: {len(train_x)}, Testing set size: {len(test_x)}\")"
   ]
  },
  {
   "cell_type": "markdown",
   "id": "dried-joseph",
   "metadata": {},
   "source": [
    "train the model with training data and display the losses and test results"
   ]
  },
  {
   "cell_type": "code",
   "execution_count": null,
   "id": "exotic-specialist",
   "metadata": {},
   "outputs": [],
   "source": [
    "model = SVM()\n",
    "plot.plot(model.fit(train_x, train_y))\n",
    "predictions = model.predict(test_x)\n",
    "display(test_y, predictions)"
   ]
  },
  {
   "cell_type": "markdown",
   "id": "together-southwest",
   "metadata": {},
   "source": [
    "Let's try scikit-learn [SVM](https://scikit-learn.org/stable/modules/svm.html)"
   ]
  },
  {
   "cell_type": "code",
   "execution_count": null,
   "id": "attractive-spanish",
   "metadata": {},
   "outputs": [],
   "source": [
    "model = SVC()\n",
    "model.fit(train_x, train_y)\n",
    "predictions = model.predict(test_x)\n",
    "display(test_y, predictions)"
   ]
  }
 ],
 "metadata": {
  "kernelspec": {
   "display_name": "Python 3",
   "language": "python",
   "name": "python3"
  },
  "language_info": {
   "codemirror_mode": {
    "name": "ipython",
    "version": 3
   },
   "file_extension": ".py",
   "mimetype": "text/x-python",
   "name": "python",
   "nbconvert_exporter": "python",
   "pygments_lexer": "ipython3",
   "version": "3.8.6"
  }
 },
 "nbformat": 4,
 "nbformat_minor": 5
}