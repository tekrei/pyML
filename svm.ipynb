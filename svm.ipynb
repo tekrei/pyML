{
 "cells": [
  {
   "cell_type": "markdown",
   "id": "valuable-password",
   "metadata": {},
   "source": [
    "# SVM\n",
    "\n",
    "Source: <https://towardsdatascience.com/svm-implementation-from-scratch-python-2db2fc52e5c2>"
   ]
  },
  {
   "cell_type": "code",
   "execution_count": null,
   "id": "brief-broad",
   "metadata": {},
   "outputs": [],
   "source": [
    "import matplotlib.pyplot as plot\n",
    "\n",
    "from utility import SVM, display, load_dataset, split_dataset"
   ]
  },
  {
   "cell_type": "markdown",
   "id": "terminal-round",
   "metadata": {},
   "source": [
    "Backpropagation class defining the Neural Network"
   ]
  },
  {
   "cell_type": "markdown",
   "id": "broadband-typing",
   "metadata": {},
   "source": [
    "load training and test data from CSV file"
   ]
  },
  {
   "cell_type": "code",
   "execution_count": null,
   "id": "fourth-pickup",
   "metadata": {},
   "outputs": [],
   "source": [
    "dataset, target = load_dataset(\"data/banknote.csv\")\n",
    "train_x, train_y, test_x, test_y = split_dataset(dataset, target, 0.75)\n",
    "print(f\"Training set size: {len(train_x)}, Testing set size: {len(test_x)}\")"
   ]
  },
  {
   "cell_type": "markdown",
   "id": "dried-joseph",
   "metadata": {},
   "source": [
    "train the model with training data and display the losses and test results"
   ]
  },
  {
   "cell_type": "code",
   "execution_count": null,
   "id": "exotic-specialist",
   "metadata": {},
   "outputs": [],
   "source": [
    "from sklearn.metrics import hinge_loss\n",
    "from sklearn.svm import SVC\n",
    "from sklearn.utils import shuffle\n",
    "\n",
    "model = SVM()\n",
    "plot.plot(model.fit(train_x, train_y))\n",
    "predictions = model.predict(test_x)\n",
    "display(test_y, predictions)"
   ]
  },
  {
   "cell_type": "markdown",
   "id": "together-southwest",
   "metadata": {},
   "source": [
    "Let's try scikit-learn [SVM](https://scikit-learn.org/stable/modules/svm.html)"
   ]
  },
  {
   "cell_type": "code",
   "execution_count": null,
   "id": "attractive-spanish",
   "metadata": {},
   "outputs": [],
   "source": [
    "model = SVC()\n",
    "model.fit(train_x, train_y)\n",
    "predictions = model.predict(test_x)\n",
    "display(test_y, predictions)"
   ]
  }
 ],
 "metadata": {
  "kernelspec": {
   "display_name": "Python 3 (ipykernel)",
   "language": "python",
   "name": "python3"
  },
  "language_info": {
   "codemirror_mode": {
    "name": "ipython",
    "version": 3
   },
   "file_extension": ".py",
   "mimetype": "text/x-python",
   "name": "python",
   "nbconvert_exporter": "python",
   "pygments_lexer": "ipython3",
   "version": "3.11.6"
  }
 },
 "nbformat": 4,
 "nbformat_minor": 5
}
