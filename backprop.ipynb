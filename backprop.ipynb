{
 "cells": [
  {
   "cell_type": "markdown",
   "id": "specialized-designer",
   "metadata": {},
   "source": [
    "# Backpropagation\n",
    "\n",
    "Neural Network demonstration with Backpropagation learning and the Iris dataset by [M. Tim Jones](https://github.com/mtimjones/backprop)\n",
    "\n",
    "Python code by tekrei"
   ]
  },
  {
   "cell_type": "code",
   "execution_count": null,
   "id": "medium-wrestling",
   "metadata": {},
   "outputs": [],
   "source": [
    "from random import randrange\n",
    "from time import time\n",
    "\n",
    "import numpy as np\n",
    "\n",
    "from utility import load_dataset, sigmoid, sigmoid_prime"
   ]
  },
  {
   "cell_type": "markdown",
   "id": "compliant-elder",
   "metadata": {},
   "source": [
    "Backpropagation class defining the Neural Network"
   ]
  },
  {
   "cell_type": "code",
   "execution_count": null,
   "id": "little-polymer",
   "metadata": {},
   "outputs": [],
   "source": [
    "class Backpropagation:\n",
    "    # Initialize the NN with n_hidden neurons\n",
    "    def __init__(self, dataset, target, n_hidden=25):\n",
    "        self.dataset = dataset\n",
    "        self.count = len(self.dataset)\n",
    "        n_input = len(self.dataset[0])\n",
    "        self.target = target\n",
    "        n_output = len(self.target[0])\n",
    "        # Neuron cell values\n",
    "        self.inputs = np.ones(n_input + 1)\n",
    "        self.hidden = np.ones(n_hidden + 1)\n",
    "        self.outputs = np.zeros(n_output)\n",
    "        # initialize the network with random weights\n",
    "        # weights are randomly chosen between 0-0.5\n",
    "        self.weights_hidden_input = np.random.rand(n_hidden, n_input + 1) / 2\n",
    "        self.weights_output_hidden = np.random.rand(n_output, n_hidden + 1) / 2\n",
    "\n",
    "    def feed_forward(self, data):\n",
    "        # given the test input, feed forward to the output\n",
    "        self.inputs = data\n",
    "        # calculate hidden layer outputs\n",
    "        for i in range(len(self.hidden) - 1):\n",
    "            current = 0\n",
    "            for j in range(len(self.inputs)):\n",
    "                current += self.weights_hidden_input[i][j] * self.inputs[j]\n",
    "            self.hidden[i] = sigmoid(current)\n",
    "\n",
    "        for i in range(len(self.outputs)):\n",
    "            current = 0\n",
    "            for j in range(len(self.hidden)):\n",
    "                current += self.weights_output_hidden[i][j] * self.hidden[j]\n",
    "            self.outputs[i] = sigmoid(current)\n",
    "\n",
    "        # perform winner-takes-all for the network\n",
    "        best = 0\n",
    "        bestValue = self.outputs[0]\n",
    "        for i in range(1, len(self.outputs)):\n",
    "            if self.outputs[i] > bestValue:\n",
    "                best = i\n",
    "                bestValue = self.outputs[i]\n",
    "        return best\n",
    "\n",
    "    def backpropagate(self, target, learning_rate):\n",
    "        # given a classification, backpropagate the error through the weights.\n",
    "        # calculate output node error\n",
    "        err_out = [\n",
    "            (target[out] - self.outputs[out]) * sigmoid_prime(self.outputs[out])\n",
    "            for out in range(len(self.outputs))\n",
    "        ]\n",
    "\n",
    "        # calculate the hidden node error\n",
    "        err_hid = np.zeros(len(self.hidden))\n",
    "        for hid in range(len(self.hidden)):\n",
    "            current = 0\n",
    "            for out in range(len(self.outputs)):\n",
    "                current += err_out[out] * self.weights_output_hidden[out][hid]\n",
    "            err_hid[hid] = current * sigmoid_prime(self.hidden[hid])\n",
    "        # adjust the hidden to output layer weights\n",
    "        for out in range(len(self.outputs)):\n",
    "            for hid in range(len(self.hidden)):\n",
    "                self.weights_output_hidden[out][hid] += (\n",
    "                    learning_rate * err_out[out] * self.hidden[hid]\n",
    "                )\n",
    "        # adjust the input to hidden layer weights\n",
    "        for hid in range(len(self.hidden) - 1):\n",
    "            for inp in range(len(self.inputs)):\n",
    "                self.weights_hidden_input[hid][inp] += (\n",
    "                    learning_rate * err_hid[hid] * self.inputs[inp]\n",
    "                )\n",
    "\n",
    "    def train(self, max_iter=30000, training_rate=0.05):\n",
    "        start = time()\n",
    "        # train the network from the test vectors\n",
    "        for i in range(max_iter):\n",
    "            test = randrange(self.count)\n",
    "            self.feed_forward(self.dataset[test])\n",
    "            self.backpropagate(self.target[test], training_rate)\n",
    "        print(f\"Training is finished in {time()-start} seconds\")\n",
    "\n",
    "    def test(self, n_test=10):\n",
    "        # test the network given randomly chosen vectors\n",
    "        correct = 0\n",
    "        for i in range(n_test):\n",
    "            test = randrange(self.count)\n",
    "            result = self.feed_forward(self.dataset[test])\n",
    "            print(\n",
    "                f\"#{test} {self.dataset[test]} classified as {result} ({self.target[test]})\"\n",
    "            )\n",
    "            if self.target[test][result] == 1:\n",
    "                correct += 1\n",
    "        print(f\"Classification rate {correct / n_test}\")\n",
    "\n",
    "    def test_all(self):\n",
    "        # test the network by all training data\n",
    "        correct = 0\n",
    "        for i in range(self.count):\n",
    "            result = self.feed_forward(self.dataset[i])\n",
    "            print(f\"#{i} {self.dataset[i]} classified as {result} ({self.target[i]})\")\n",
    "            if self.target[i][result] == 1:\n",
    "                correct += 1\n",
    "        print(f\"Classification rate {correct / self.count}\")"
   ]
  },
  {
   "cell_type": "markdown",
   "id": "hollywood-paintball",
   "metadata": {},
   "source": [
    "Load dataset and target values"
   ]
  },
  {
   "cell_type": "code",
   "execution_count": null,
   "id": "sunset-damage",
   "metadata": {},
   "outputs": [],
   "source": [
    "dataset, target = load_dataset(\"data/iris.csv\", binarize=True)"
   ]
  },
  {
   "cell_type": "markdown",
   "id": "involved-plymouth",
   "metadata": {},
   "source": [
    "Create the Backpropagation object"
   ]
  },
  {
   "cell_type": "code",
   "execution_count": null,
   "id": "cross-check",
   "metadata": {},
   "outputs": [],
   "source": [
    "nn = Backpropagation(dataset, target)"
   ]
  },
  {
   "cell_type": "markdown",
   "id": "rural-norfolk",
   "metadata": {},
   "source": [
    "Train the network"
   ]
  },
  {
   "cell_type": "code",
   "execution_count": null,
   "id": "standard-polyester",
   "metadata": {},
   "outputs": [],
   "source": [
    "nn.train()"
   ]
  },
  {
   "cell_type": "markdown",
   "id": "worthy-harmony",
   "metadata": {},
   "source": [
    "Test the network"
   ]
  },
  {
   "cell_type": "code",
   "execution_count": null,
   "id": "satellite-lindsay",
   "metadata": {},
   "outputs": [],
   "source": [
    "nn.test()"
   ]
  }
 ],
 "metadata": {
  "kernelspec": {
   "display_name": "Python 3",
   "language": "python",
   "name": "python3"
  },
  "language_info": {
   "codemirror_mode": {
    "name": "ipython",
    "version": 3
   },
   "file_extension": ".py",
   "mimetype": "text/x-python",
   "name": "python",
   "nbconvert_exporter": "python",
   "pygments_lexer": "ipython3",
   "version": "3.8.6"
  }
 },
 "nbformat": 4,
 "nbformat_minor": 5
}
