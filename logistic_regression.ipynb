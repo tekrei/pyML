{
 "cells": [
  {
   "cell_type": "markdown",
   "id": "african-sheet",
   "metadata": {},
   "source": [
    "# Logistic Regression\n",
    "\n",
    "- <https://towardsdatascience.com/logistic-regression-from-scratch-69db4f587e17>\n",
    "- <https://aihubprojects.com/logistic-regression-from-scratch/>\n",
    "- <https://thelaziestprogrammer.com/sharrington/math-of-machine-learning/solving-logreg-newtons-method>"
   ]
  },
  {
   "cell_type": "code",
   "execution_count": null,
   "id": "intensive-liberal",
   "metadata": {},
   "outputs": [],
   "source": [
    "import matplotlib.pyplot as plot\n",
    "import numpy as np\n",
    "from utility import display, load_dataset, sigmoid, split_dataset\n",
    "from sklearn.linear_model import LogisticRegression as ScikitLogisticRegression"
   ]
  },
  {
   "cell_type": "markdown",
   "id": "completed-johns",
   "metadata": {
    "pycharm": {
     "name": "#%% md\n"
    }
   },
   "source": [
    "The following class contains model fitting and prediction methods using Logistic Regression\n",
    "using [Gradient Descent](https://en.wikipedia.org/wiki/Gradient_descent) with [sigmoid](https://en.wikipedia.org/wiki/Sigmoid_function) and [Log Loss](https://en.wikipedia.org/wiki/Log_loss) function."
   ]
  },
  {
   "cell_type": "code",
   "execution_count": null,
   "id": "upset-overhead",
   "metadata": {
    "pycharm": {
     "name": "#%%\n"
    }
   },
   "outputs": [],
   "source": [
    "class LogisticRegression:\n",
    "    def __init__(self, verbose = False):\n",
    "        self.verbose = verbose\n",
    "        self.weights = np.zeros(0)\n",
    "\n",
    "    @staticmethod\n",
    "    def log_loss(yp, y):\n",
    "        # loss function to minimize the error of the model\n",
    "        return (-y * np.log(yp) - (1 - y) * np.log(1 - yp)).mean()\n",
    "\n",
    "    def fit(self, x, y, lr=0.05, epochs=10000):\n",
    "        # weights initialization\n",
    "        self.weights = np.zeros(x.shape[1])\n",
    "        losses = []\n",
    "\n",
    "        for i in range(epochs):\n",
    "            # calculate W * Xi\n",
    "            z = np.dot(x, self.weights)\n",
    "\n",
    "            # predict values\n",
    "            yp = sigmoid(z)\n",
    "\n",
    "            # calculate the gradient\n",
    "            gradient = np.dot(x.T, (yp - y)) / y.size\n",
    "\n",
    "            # update weights\n",
    "            self.weights -= lr * gradient\n",
    "\n",
    "            # calculate new W * Xi\n",
    "            z = np.dot(x, self.weights)\n",
    "            yp = sigmoid(z)\n",
    "\n",
    "            # calculate the loss\n",
    "            loss = self.log_loss(yp, y)\n",
    "\n",
    "            # display loss\n",
    "            if self.verbose and i % 1000 == 0:\n",
    "                print(f'loss in iteration {i} -> {loss} \\t')\n",
    "\n",
    "            # collect loss values\n",
    "            losses.append(loss)\n",
    "        # return loss values\n",
    "        return losses\n",
    "\n",
    "    def predict(self, x):\n",
    "        # Predicting with sigmoid function\n",
    "        z = np.dot(x, self.weights)\n",
    "        # Returning binary result\n",
    "        return sigmoid(z).round()"
   ]
  },
  {
   "cell_type": "markdown",
   "id": "artistic-associate",
   "metadata": {},
   "source": [
    "Auxiliary method to display summary statistics"
   ]
  },
  {
   "cell_type": "code",
   "execution_count": null,
   "id": "specified-uganda",
   "metadata": {},
   "outputs": [],
   "source": [
    "def display_statistics(x_values, y_values):\n",
    "    print(\"Mean(x)=%s Mean(Y)=%s\" % (np.mean(x_values), np.mean(y_values)))\n",
    "    print(\"Median(x)=%s Median(Y)=%s\" % (np.median(x_values), np.median(y_values)))\n",
    "    print(\"StdDev(x)=%s StdDev(Y)=%s\" % (np.std(x_values), np.std(y_values)))\n",
    "    print(\"Var(x)=%s Var(Y)=%s\" % (np.var(x_values), np.var(y_values)))\n",
    "    print(\"Cov(x,y)=%s\" % np.cov(x_values, y_values))\n",
    "    print(\"Cor(x,y)=%s\" % np.correlate(x_values, y_values))"
   ]
  },
  {
   "cell_type": "markdown",
   "id": "attempted-reverse",
   "metadata": {},
   "source": [
    "load training and test data from CSV file"
   ]
  },
  {
   "cell_type": "code",
   "execution_count": null,
   "id": "exclusive-nurse",
   "metadata": {},
   "outputs": [],
   "source": [
    "dataset, target = load_dataset(\"data/banknote.csv\")\n",
    "train_x, train_y, test_x, test_y = split_dataset(dataset, target, 0.75)\n",
    "print(f\"Training set size: {len(train_x)}, Testing set size: {len(test_x)}\")"
   ]
  },
  {
   "cell_type": "code",
   "execution_count": null,
   "id": "unnecessary-account",
   "metadata": {
    "pycharm": {
     "name": "#%%\n"
    }
   },
   "outputs": [],
   "source": [
    "model = LogisticRegression()"
   ]
  },
  {
   "cell_type": "markdown",
   "id": "compact-richardson",
   "metadata": {},
   "source": [
    "train the model with training data and display the losses"
   ]
  },
  {
   "cell_type": "code",
   "execution_count": null,
   "id": "martial-hours",
   "metadata": {
    "pycharm": {
     "name": "#%%\n"
    }
   },
   "outputs": [],
   "source": [
    "plot.plot(model.fit(train_x, train_y))"
   ]
  },
  {
   "cell_type": "markdown",
   "id": "detailed-usage",
   "metadata": {
    "pycharm": {
     "name": "#%% md\n"
    }
   },
   "source": [
    "predict using test data"
   ]
  },
  {
   "cell_type": "code",
   "execution_count": null,
   "id": "quality-strength",
   "metadata": {
    "pycharm": {
     "name": "#%%\n"
    }
   },
   "outputs": [],
   "source": [
    "predictions = model.predict(test_x)"
   ]
  },
  {
   "cell_type": "markdown",
   "id": "confidential-cloud",
   "metadata": {
    "pycharm": {
     "name": "#%% md\n"
    }
   },
   "source": [
    "display the results of test data prediction"
   ]
  },
  {
   "cell_type": "code",
   "execution_count": null,
   "id": "behind-perry",
   "metadata": {
    "pycharm": {
     "name": "#%%\n"
    }
   },
   "outputs": [],
   "source": [
    "display(test_y, predictions)"
   ]
  },
  {
   "cell_type": "markdown",
   "id": "searching-showcase",
   "metadata": {
    "pycharm": {
     "name": "#%% md\n"
    }
   },
   "source": [
    "Let's try scikit-learn [Logistic Regression](https://scikit-learn.org/stable/modules/generated/sklearn.linear_model.LogisticRegression.html)"
   ]
  },
  {
   "cell_type": "code",
   "execution_count": null,
   "id": "enabling-declaration",
   "metadata": {
    "pycharm": {
     "name": "#%%\n"
    }
   },
   "outputs": [],
   "source": [
    "model = ScikitLogisticRegression()\n",
    "model.fit(train_x, train_y)\n",
    "predictions = model.predict(test_x)\n",
    "display(test_y, predictions)"
   ]
  }
 ],
 "metadata": {
  "kernelspec": {
   "display_name": "Python 3",
   "language": "python",
   "name": "python3"
  },
  "language_info": {
   "codemirror_mode": {
    "name": "ipython",
    "version": 3
   },
   "file_extension": ".py",
   "mimetype": "text/x-python",
   "name": "python",
   "nbconvert_exporter": "python",
   "pygments_lexer": "ipython3",
   "version": "3.8.6"
  }
 },
 "nbformat": 4,
 "nbformat_minor": 5
}