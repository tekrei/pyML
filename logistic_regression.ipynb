{
 "cells": [
  {
   "cell_type": "markdown",
   "id": "african-sheet",
   "metadata": {},
   "source": [
    "# Logistic regression using Newton's method\n",
    "\n",
    "Sources:\n",
    "- <https://towardsdatascience.com/logistic-regression-from-scratch-69db4f587e17>\n",
    "- <https://aihubprojects.com/logistic-regression-from-scratch/>"
   ]
  },
  {
   "cell_type": "code",
   "execution_count": null,
   "id": "intensive-liberal",
   "metadata": {},
   "outputs": [],
   "source": [
    "import matplotlib.pyplot as plot\n",
    "import numpy as np\n",
    "from utility import display, load_dataset, sigmoid, split_dataset"
   ]
  },
  {
   "cell_type": "code",
   "execution_count": null,
   "outputs": [],
   "source": [
    "class LogisticRegression:\n",
    "    def __init__(self, verbose = False):\n",
    "        self.verbose = verbose\n",
    "\n",
    "    @staticmethod\n",
    "    def loss( yp, y):\n",
    "        # loss function to minimize the error of the model\n",
    "        return (-y * np.log(yp) - (1 - y) * np.log(1 - yp)).mean()\n",
    "\n",
    "    def fit(self, x, y, lr=0.05, epochs=10000):\n",
    "        loss = []\n",
    "        # weights initialization\n",
    "        weights = np.zeros(x.shape[1])\n",
    "        losses = []\n",
    "        n = len(x)\n",
    "\n",
    "        for i in range(epochs):\n",
    "            # calculate W * Xi\n",
    "            z = np.dot(x, weights)\n",
    "\n",
    "            # predict values\n",
    "            yp = sigmoid(z)\n",
    "\n",
    "            # calculate the gradient\n",
    "            gradient = np.dot(x.T, (yp - y)) / y.size\n",
    "\n",
    "            # update weights\n",
    "            weights -= lr * gradient\n",
    "\n",
    "            # calculate new W * Xi\n",
    "            z = np.dot(x, weights)\n",
    "            yp = sigmoid(z)\n",
    "\n",
    "            # calculate the loss\n",
    "            loss = self.loss(yp, y)\n",
    "\n",
    "            # display loss\n",
    "            if self.verbose and i % 1000 == 0:\n",
    "                print(f'loss in iteration {i} -> {loss} \\t')\n",
    "\n",
    "            # collect loss values\n",
    "            losses.append(loss)\n",
    "        # save the weights\n",
    "        self.weights = weights\n",
    "        # return loss values\n",
    "        return losses\n",
    "\n",
    "    def predict(self, x):\n",
    "        # Predicting with sigmoid function\n",
    "        z = np.dot(x, self.weights)\n",
    "        # Returning binary result\n",
    "        return sigmoid(z).round()"
   ],
   "metadata": {
    "collapsed": false,
    "pycharm": {
     "name": "#%%\n"
    }
   }
  },
  {
   "cell_type": "markdown",
   "id": "artistic-associate",
   "metadata": {},
   "source": [
    "## Method to display summary statistics"
   ]
  },
  {
   "cell_type": "code",
   "execution_count": null,
   "id": "specified-uganda",
   "metadata": {},
   "outputs": [],
   "source": [
    "def display_statistics(x_values, y_values):\n",
    "    print(\"Mean(x)=%s Mean(Y)=%s\" % (np.mean(x_values), np.mean(y_values)))\n",
    "    print(\"Median(x)=%s Median(Y)=%s\" % (np.median(x_values), np.median(y_values)))\n",
    "    print(\"StdDev(x)=%s StdDev(Y)=%s\" % (np.std(x_values), np.std(y_values)))\n",
    "    print(\"Var(x)=%s Var(Y)=%s\" % (np.var(x_values), np.var(y_values)))\n",
    "    print(\"Cov(x,y)=%s\" % np.cov(x_values, y_values))\n",
    "    print(\"Cor(x,y)=%s\" % np.correlate(x_values, y_values))\n",
    "\n",
    "def plot_data(x_values, y_values):\n",
    "    # plot measurement values\n",
    "    plot.plot(x_values, y_values, \"bo\", label=\"Measured displacements\")\n",
    "    plot.title(\"Measurement Displacement of Spring\", fontsize=\"x-large\")\n",
    "    plot.xlabel(\"X Values\")\n",
    "    plot.ylabel(\"Y Values\")\n",
    "    display_statistics(x_values, y_values)"
   ]
  },
  {
   "cell_type": "markdown",
   "id": "attempted-reverse",
   "metadata": {},
   "source": [
    "## Plot data (x and y values) together with regression lines"
   ]
  },
  {
   "cell_type": "code",
   "execution_count": null,
   "id": "exclusive-nurse",
   "metadata": {},
   "outputs": [],
   "source": [
    "dataset, target = load_dataset(\"data/banknote.csv\")\n",
    "train_x, train_y, test_x, test_y = split_dataset(dataset, target, 0.75)\n",
    "print(f\"Training set size: {len(train_x)}, Testing set size: {len(test_x)}\")\n",
    "model = LogisticRegression()\n",
    "# train the model\n",
    "losses = model.fit(train_x, train_y)\n",
    "# display loss line\n",
    "plot.plot(losses)\n",
    "# predict for test\n",
    "predictions = model.predict(test_x)\n",
    "# display test result\n",
    "display(test_y, predictions)"
   ]
  },
  {
   "cell_type": "code",
   "execution_count": null,
   "outputs": [],
   "source": [
    "from sklearn.linear_model import LogisticRegression as SKLR\n",
    "model = SKLR(max_iter=10000)\n",
    "model.fit(train_x, train_y)\n",
    "predictions = model.predict(test_x)\n",
    "display(test_y, predictions)"
   ],
   "metadata": {
    "collapsed": false,
    "pycharm": {
     "name": "#%%\n"
    }
   }
  }
 ],
 "metadata": {
  "kernelspec": {
   "display_name": "Python 3",
   "language": "python",
   "name": "python3"
  },
  "language_info": {
   "codemirror_mode": {
    "name": "ipython",
    "version": 3
   },
   "file_extension": ".py",
   "mimetype": "text/x-python",
   "name": "python",
   "nbconvert_exporter": "python",
   "pygments_lexer": "ipython3",
   "version": "3.8.6"
  }
 },
 "nbformat": 4,
 "nbformat_minor": 5
}