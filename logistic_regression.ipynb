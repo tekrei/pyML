{
 "cells": [
  {
   "cell_type": "markdown",
   "id": "organized-religion",
   "metadata": {},
   "source": [
    "# Logistic Regression\n",
    "\n",
    "- <https://towardsdatascience.com/logistic-regression-from-scratch-69db4f587e17>\n",
    "- <https://aihubprojects.com/logistic-regression-from-scratch/>\n",
    "- <https://thelaziestprogrammer.com/sharrington/math-of-machine-learning/solving-logreg-newtons-method>\n",
    "- <https://www.pyimagesearch.com/2016/10/17/stochastic-gradient-descent-sgd-with-python/>"
   ]
  },
  {
   "cell_type": "code",
   "execution_count": null,
   "id": "fifth-playback",
   "metadata": {},
   "outputs": [],
   "source": [
    "import matplotlib.pyplot as plot\n",
    "from sklearn.linear_model import LogisticRegression as ScikitLogisticRegression\n",
    "\n",
    "from utility import LogisticRegression, Methods, display, load_dataset, split_dataset"
   ]
  },
  {
   "cell_type": "markdown",
   "id": "explicit-prescription",
   "metadata": {
    "pycharm": {
     "name": "#%% md\n"
    }
   },
   "source": [
    "The following class contains model fitting and prediction methods using Logistic Regression\n",
    "using [Gradient Descent](https://en.wikipedia.org/wiki/Gradient_descent) with [sigmoid](https://en.wikipedia.org/wiki/Sigmoid_function) and [Log Loss](https://en.wikipedia.org/wiki/Log_loss) function.\n",
    "\n",
    "- Log Loss (`log_loss`): $$L_{\\log}(y, p) = -(y \\log (p) + (1 - y) \\log (1 - p))$$\n",
    "- Sum of Squared Errors (SSE) (`sse_loss`): $$SSE(y, p) = \\sum_{i}^{n} (p - y)^2$$"
   ]
  },
  {
   "cell_type": "markdown",
   "id": "saved-packet",
   "metadata": {},
   "source": [
    "load training and test data from CSV file"
   ]
  },
  {
   "cell_type": "code",
   "execution_count": null,
   "id": "medieval-plymouth",
   "metadata": {},
   "outputs": [],
   "source": [
    "dataset, target = load_dataset(\"data/forestfires.csv\")\n",
    "train_x, train_y, test_x, test_y = split_dataset(dataset, target, 0.75)\n",
    "print(f\"Training set size: {len(train_x)}, Testing set size: {len(test_x)}\")"
   ]
  },
  {
   "cell_type": "markdown",
   "id": "seasonal-expansion",
   "metadata": {},
   "source": [
    "train the model with training data using Gradient Descent and plot loss during iteration and plot confusion matrix."
   ]
  },
  {
   "cell_type": "code",
   "execution_count": null,
   "id": "blind-respondent",
   "metadata": {},
   "outputs": [],
   "source": [
    "model = LogisticRegression()\n",
    "loss_plot = plot.plot(model.fit(train_x, train_y, Methods.GD))\n",
    "predictions = model.predict(test_x)\n",
    "display(test_y, predictions)"
   ]
  },
  {
   "cell_type": "markdown",
   "id": "buried-fundamental",
   "metadata": {},
   "source": [
    "train the model with training data using Stochastic Gradient Descent and plot loss during iteration and plot confusion matrix."
   ]
  },
  {
   "cell_type": "code",
   "execution_count": null,
   "id": "executed-liver",
   "metadata": {
    "pycharm": {
     "name": "#%%\n"
    },
    "scrolled": true
   },
   "outputs": [],
   "source": [
    "model = LogisticRegression()\n",
    "loss_plot = plot.plot(model.fit(train_x, train_y, Methods.SGD))\n",
    "predictions = model.predict(test_x)\n",
    "display(test_y, predictions)"
   ]
  },
  {
   "cell_type": "markdown",
   "id": "little-principle",
   "metadata": {
    "pycharm": {
     "name": "#%% md\n"
    }
   },
   "source": [
    "Use scikit-learn [Logistic Regression](https://scikit-learn.org/stable/modules/generated/sklearn.linear_model.LogisticRegression.html)"
   ]
  },
  {
   "cell_type": "code",
   "execution_count": null,
   "id": "bizarre-heritage",
   "metadata": {
    "pycharm": {
     "name": "#%%\n"
    }
   },
   "outputs": [],
   "source": [
    "model = ScikitLogisticRegression()\n",
    "model.fit(train_x, train_y)\n",
    "predictions = model.predict(test_x)\n",
    "display(test_y, predictions)"
   ]
  },
  {
   "cell_type": "code",
   "execution_count": null,
   "id": "da7354f0-809b-45a4-843f-02c906cf9d7c",
   "metadata": {},
   "outputs": [],
   "source": []
  }
 ],
 "metadata": {
  "kernelspec": {
   "display_name": "Python 3 (ipykernel)",
   "language": "python",
   "name": "python3"
  },
  "language_info": {
   "codemirror_mode": {
    "name": "ipython",
    "version": 3
   },
   "file_extension": ".py",
   "mimetype": "text/x-python",
   "name": "python",
   "nbconvert_exporter": "python",
   "pygments_lexer": "ipython3",
   "version": "3.11.6"
  }
 },
 "nbformat": 4,
 "nbformat_minor": 5
}
