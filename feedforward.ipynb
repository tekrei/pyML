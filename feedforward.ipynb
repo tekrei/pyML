{
 "cells": [
  {
   "cell_type": "markdown",
   "id": "white-story",
   "metadata": {},
   "source": [
    "# Feedforward Neural Network\n",
    "\n",
    "A module implementing the [stochastic gradient descent](https://en.wikipedia.org/wiki/Stochastic_gradient_descent) learning algorithm for a [feedforward neural network](https://en.wikipedia.org/wiki/Feedforward_neural_network). It uses [cross-entropy cost function](https://en.wikipedia.org/wiki/Cross_entropy#Cross-entropy_loss_function_and_logistic_regression) and regularization with a good initialization of network weights.\n",
    "\n",
    "The focus is making the code simple, easily readable, and easily modifiable.  It is not optimized, and omits many desirable features.\n",
    "\n",
    "Source: [Michael Nielsen](https://github.com/mnielsen/neural-networks-and-deep-learning)"
   ]
  },
  {
   "cell_type": "code",
   "execution_count": null,
   "id": "guided-dance",
   "metadata": {},
   "outputs": [],
   "source": [
    "from utility import Network, prepare_data"
   ]
  },
  {
   "cell_type": "markdown",
   "id": "elementary-conditioning",
   "metadata": {},
   "source": [
    "## Load a network from file\n",
    "\n",
    "Load a neural network from the file `filename` and returns an instance of Network."
   ]
  },
  {
   "cell_type": "code",
   "execution_count": null,
   "id": "federal-insulation",
   "metadata": {},
   "outputs": [],
   "source": [
    "def load(filename):\n",
    "    f = open(filename, \"r\")\n",
    "    data = json.load(f)\n",
    "    f.close()\n",
    "    cost = getattr(sys.modules[__name__], data[\"cost\"])\n",
    "    net = Network(data[\"sizes\"], cost=cost)\n",
    "    net.weights = [np.array(w) for w in data[\"weights\"]]\n",
    "    net.biases = [np.array(b) for b in data[\"biases\"]]\n",
    "    return net"
   ]
  },
  {
   "cell_type": "markdown",
   "id": "honey-pixel",
   "metadata": {},
   "source": [
    "## Load data"
   ]
  },
  {
   "cell_type": "code",
   "execution_count": null,
   "id": "partial-equation",
   "metadata": {},
   "outputs": [],
   "source": [
    "training_data, validation_data, test_data = prepare_data()\n",
    "print(\n",
    "    f\"Training data: {len(training_data)} - Validation data: {len(validation_data)} - Test data: {len(test_data)}\"\n",
    ")"
   ]
  },
  {
   "cell_type": "markdown",
   "id": "hindu-tuition",
   "metadata": {},
   "source": [
    "## Create 3-layer network \n",
    "\n",
    "Layers contain 784, 100 and 10 neurons respectively."
   ]
  },
  {
   "cell_type": "code",
   "execution_count": null,
   "id": "aerial-preservation",
   "metadata": {},
   "outputs": [],
   "source": [
    "net = Network([784, 100, 10])"
   ]
  },
  {
   "cell_type": "markdown",
   "id": "numeric-functionality",
   "metadata": {},
   "source": [
    "## Train the network with `training_data` and evaluate with `test_data`"
   ]
  },
  {
   "cell_type": "code",
   "execution_count": null,
   "id": "prostate-scholarship",
   "metadata": {
    "scrolled": true
   },
   "outputs": [],
   "source": [
    "net.SGD(training_data, 1, 100, 2.5, evaluation_data=validation_data)"
   ]
  },
  {
   "cell_type": "markdown",
   "id": "activated-paris",
   "metadata": {},
   "source": [
    "## Test the trained network"
   ]
  },
  {
   "cell_type": "code",
   "execution_count": null,
   "id": "reduced-health",
   "metadata": {},
   "outputs": [],
   "source": [
    "print(f\"Accuracy on test data: {net.accuracy(test_data)} / {len(test_data)}\")"
   ]
  }
 ],
 "metadata": {
  "kernelspec": {
   "display_name": "Python 3 (ipykernel)",
   "language": "python",
   "name": "python3"
  },
  "language_info": {
   "codemirror_mode": {
    "name": "ipython",
    "version": 3
   },
   "file_extension": ".py",
   "mimetype": "text/x-python",
   "name": "python",
   "nbconvert_exporter": "python",
   "pygments_lexer": "ipython3",
   "version": "3.11.6"
  }
 },
 "nbformat": 4,
 "nbformat_minor": 5
}
