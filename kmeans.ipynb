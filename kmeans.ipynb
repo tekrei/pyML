{
 "cells": [
  {
   "cell_type": "markdown",
   "id": "primary-highlight",
   "metadata": {},
   "source": [
    "# K-Means Algorithm Implementation\n",
    "\n",
    "A simple [K-Means clustering](https://en.wikipedia.org/wiki/K-means_clustering) implementation and performance comparison with [scikit-learn implementation](https://scikit-learn.org/stable/modules/generated/sklearn.cluster.KMeans.html)."
   ]
  },
  {
   "cell_type": "code",
   "execution_count": null,
   "id": "colonial-conservative",
   "metadata": {},
   "outputs": [],
   "source": [
    "import matplotlib.pyplot as plot\n",
    "from numpy import divide, int8, newaxis, ones, sum, zeros\n",
    "from numpy.random import rand, randint\n",
    "from sklearn.cluster import KMeans\n",
    "\n",
    "from utility import euclidean"
   ]
  },
  {
   "cell_type": "markdown",
   "id": "fiscal-bermuda",
   "metadata": {},
   "source": [
    "## Self-implemented K-Means clustering method"
   ]
  },
  {
   "cell_type": "code",
   "execution_count": null,
   "id": "canadian-power",
   "metadata": {},
   "outputs": [],
   "source": [
    "def cluster(data, cluster_count, max_iteration=1000):\n",
    "    data_count = data.shape[0]\n",
    "    # select the clusters randomly from data\n",
    "    clusters = data[randint(data_count, size=cluster_count), :]\n",
    "    # assign random memberships to the data\n",
    "    memberships = zeros(data_count, dtype=int8)\n",
    "    iteration = 0\n",
    "    _inertia = 1e308\n",
    "    # k-means loop starting\n",
    "    while True:\n",
    "        changed = False\n",
    "        # reset new cluster variables\n",
    "        _clusters = zeros((cluster_count, data.shape[1]))\n",
    "        _cluster_size = zeros(cluster_count)\n",
    "\n",
    "        # CLUSTER ASSIGNMENT STEP\n",
    "        # assign each data to the nearest cluster\n",
    "        for i, datum in enumerate(data):\n",
    "            dmin = float(\"Inf\")\n",
    "            # find the smallest distance cluster center\n",
    "            for j, cluster in enumerate(clusters):\n",
    "                distance = euclidean(datum, cluster)\n",
    "                if distance < dmin:\n",
    "                    dmin = distance\n",
    "                    n = j\n",
    "            # assign closest cluster to the datum\n",
    "            if memberships[i] != n:\n",
    "                memberships[i] = n\n",
    "                changed = True\n",
    "            # store the sum of the all data belonging to the same cluster\n",
    "            _clusters[memberships[i]] = _clusters[memberships[i]] + datum\n",
    "            # store the data count of cluster\n",
    "            _cluster_size[memberships[i]] += 1\n",
    "\n",
    "        # UPDATE STEP\n",
    "        # calculate new cluster centers using data cluster information\n",
    "        clusters = divide(_clusters, _cluster_size[:, newaxis])\n",
    "\n",
    "        # COST CALCULATION\n",
    "        inertia = sum((data - clusters[memberships]) ** 2)\n",
    "        print(f\"iteration: {iteration} cost: {inertia}\")\n",
    "        if _inertia == inertia:\n",
    "            break\n",
    "        else:\n",
    "            _inertia = inertia\n",
    "        iteration += 1\n",
    "        # check for stop criteria\n",
    "        if iteration > max_iteration or changed is False:\n",
    "            break\n",
    "    # print final inertia\n",
    "    inertia = sum((data - clusters[memberships]) ** 2)\n",
    "    # data cluster memberships and cluster centers are returned\n",
    "    return clusters, memberships, inertia"
   ]
  },
  {
   "cell_type": "markdown",
   "id": "liked-bikini",
   "metadata": {},
   "source": [
    "## Testing"
   ]
  },
  {
   "cell_type": "markdown",
   "id": "toxic-childhood",
   "metadata": {},
   "source": [
    "### Generate random data"
   ]
  },
  {
   "cell_type": "code",
   "execution_count": null,
   "id": "simple-narrative",
   "metadata": {},
   "outputs": [],
   "source": [
    "data = rand(25, 2)"
   ]
  },
  {
   "cell_type": "markdown",
   "id": "alien-screening",
   "metadata": {},
   "source": [
    "### Run self-implementation"
   ]
  },
  {
   "cell_type": "code",
   "execution_count": null,
   "id": "sonic-router",
   "metadata": {},
   "outputs": [],
   "source": [
    "clusters, memberships, inertia = cluster(data, 2)\n",
    "print(f\"Self-implementation inertia:{inertia}\")"
   ]
  },
  {
   "cell_type": "markdown",
   "id": "administrative-passenger",
   "metadata": {},
   "source": [
    "### Run scikit-learn implementation"
   ]
  },
  {
   "cell_type": "code",
   "execution_count": null,
   "id": "latest-wallace",
   "metadata": {},
   "outputs": [],
   "source": [
    "sklKMeans = KMeans(n_clusters=2)\n",
    "sklKMeans.fit(data)\n",
    "print(f\"scikit-learn inertia: {sklKMeans.inertia_}\")"
   ]
  },
  {
   "cell_type": "markdown",
   "id": "exceptional-update",
   "metadata": {},
   "source": [
    "### Compare results by plotting"
   ]
  },
  {
   "cell_type": "code",
   "execution_count": null,
   "id": "viral-natural",
   "metadata": {},
   "outputs": [],
   "source": [
    "f, (ax1, ax2) = plot.subplots(1, 2, sharey=True)\n",
    "ax1.scatter(data[:, 0], data[:, 1], c=memberships)\n",
    "ax1.plot(clusters[:, 0], clusters[:, 1], \"g^\")\n",
    "ax1.set_title(\"self-implementation\")\n",
    "ax2.scatter(data[:, 0], data[:, 1], c=sklKMeans.labels_)\n",
    "ax2.plot(sklKMeans.cluster_centers_[:, 0], sklKMeans.cluster_centers_[:, 1], \"g^\")\n",
    "ax2.set_title(\"scikit-learn\")\n",
    "plot.show()"
   ]
  }
 ],
 "metadata": {
  "kernelspec": {
   "display_name": "Python 3 (ipykernel)",
   "language": "python",
   "name": "python3"
  },
  "language_info": {
   "codemirror_mode": {
    "name": "ipython",
    "version": 3
   },
   "file_extension": ".py",
   "mimetype": "text/x-python",
   "name": "python",
   "nbconvert_exporter": "python",
   "pygments_lexer": "ipython3",
   "version": "3.11.6"
  }
 },
 "nbformat": 4,
 "nbformat_minor": 5
}
