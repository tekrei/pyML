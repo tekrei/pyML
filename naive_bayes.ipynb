{
 "cells": [
  {
   "cell_type": "markdown",
   "id": "centered-sheriff",
   "metadata": {},
   "source": [
    "# Naive Bayes implementation\n",
    "\n",
    "It is tested with the following example data sets:\n",
    "\n",
    "- [arrhythmia](./data/arrhythmia.csv)\n",
    "- [banknote](./data/banknote.csv)\n",
    "- [forestfires](./data/forestfires.csv)\n",
    "- [lung-cancer](./data/lung-cancer.csv)\n",
    "- [phishing-websites](./data/phishing-websites.csv)\n",
    "- [pima-indians-diabetes](./data/pima-indians-diabetes.csv)\n",
    "\n",
    "The main source for the code is the following tutorial: [Naive Bayes Classifier From Scratch in Python](http://machinelearningmastery.com/naive-bayes-classifier-scratch-python/)"
   ]
  },
  {
   "cell_type": "code",
   "execution_count": null,
   "id": "unable-mainstream",
   "metadata": {},
   "outputs": [],
   "source": [
    "from argparse import ArgumentParser\n",
    "from math import exp\n",
    "from math import pi as PI\n",
    "from math import sqrt\n",
    "\n",
    "from numpy import mean, std\n",
    "from sklearn.naive_bayes import GaussianNB\n",
    "\n",
    "from utility import display, load_dataset, split_dataset"
   ]
  },
  {
   "cell_type": "markdown",
   "id": "noticed-differential",
   "metadata": {},
   "source": [
    "## Calculate the mean, stdev and count for each column in a dataset"
   ]
  },
  {
   "cell_type": "code",
   "execution_count": null,
   "id": "constant-qualification",
   "metadata": {},
   "outputs": [],
   "source": [
    "def summarize(dataset):\n",
    "    summaries = [(mean(attribute), std(attribute))\n",
    "                 for attribute in zip(*dataset)]\n",
    "    del summaries[-1]\n",
    "    return summaries"
   ]
  },
  {
   "cell_type": "markdown",
   "id": "experienced-christmas",
   "metadata": {},
   "source": [
    "## Split the dataset by class values, returns a dictionary"
   ]
  },
  {
   "cell_type": "code",
   "execution_count": null,
   "id": "japanese-repeat",
   "metadata": {},
   "outputs": [],
   "source": [
    "def separate_by_class(dataset, target):\n",
    "    separated = {}\n",
    "    for i in range(len(dataset)):\n",
    "        vector = dataset[i]\n",
    "        result = target[i]\n",
    "        if result not in separated:\n",
    "            separated[result] = []\n",
    "        separated[result].append(vector)\n",
    "    return separated"
   ]
  },
  {
   "cell_type": "markdown",
   "id": "intelligent-substance",
   "metadata": {},
   "source": [
    "## Split dataset by class then calculate statistics for each row"
   ]
  },
  {
   "cell_type": "code",
   "execution_count": null,
   "id": "passing-climate",
   "metadata": {},
   "outputs": [],
   "source": [
    "def summarize_by_class(dataset, target):\n",
    "    separated = separate_by_class(dataset, target)\n",
    "    summaries = {}\n",
    "    for classValue, instances in separated.items():\n",
    "        summaries[classValue] = summarize(instances)\n",
    "    return summaries"
   ]
  },
  {
   "cell_type": "markdown",
   "id": "joint-nicholas",
   "metadata": {},
   "source": [
    "## Calculate the Gaussian probability distribution function for x"
   ]
  },
  {
   "cell_type": "code",
   "execution_count": null,
   "id": "practical-anger",
   "metadata": {},
   "outputs": [],
   "source": [
    "def calculate_probability(x, mean, stdev):\n",
    "    if mean == 0 or stdev == 0:\n",
    "        return 0\n",
    "    exponent = exp(-(pow(x - mean, 2) / (2 * pow(stdev, 2))))\n",
    "    return (1 / (sqrt(2 * PI) * stdev)) * exponent"
   ]
  },
  {
   "cell_type": "markdown",
   "id": "judicial-drilling",
   "metadata": {},
   "source": [
    "## Calculate the probabilities of predicting each class for a given row"
   ]
  },
  {
   "cell_type": "code",
   "execution_count": null,
   "id": "neither-majority",
   "metadata": {},
   "outputs": [],
   "source": [
    "def calculate_class_probabilities(summaries, input_vector):\n",
    "    probabilities = {}\n",
    "    for class_value, class_summaries in summaries.items():\n",
    "        probabilities[class_value] = 1\n",
    "        for i in range(len(class_summaries)):\n",
    "            mean, stdev = class_summaries[i]\n",
    "            x = input_vector[i]\n",
    "            probability = calculate_probability(x, mean, stdev)\n",
    "            # ignore zero probability\n",
    "            if probability != 0:\n",
    "                probabilities[class_value] *= probability\n",
    "    return probabilities"
   ]
  },
  {
   "cell_type": "markdown",
   "id": "personal-airline",
   "metadata": {},
   "source": [
    "## Predict the class for a given row"
   ]
  },
  {
   "cell_type": "code",
   "execution_count": null,
   "id": "focused-trial",
   "metadata": {},
   "outputs": [],
   "source": [
    "def predict(summaries, input_vector):\n",
    "    probabilities = calculate_class_probabilities(summaries, input_vector)\n",
    "    best_label, best_prob = None, -1\n",
    "    for class_value, probability in probabilities.items():\n",
    "        if best_label is None or probability > best_prob:\n",
    "            best_prob = probability\n",
    "            best_label = class_value\n",
    "    return best_label"
   ]
  },
  {
   "cell_type": "markdown",
   "id": "elegant-confirmation",
   "metadata": {},
   "source": [
    "## Calculate predictions"
   ]
  },
  {
   "cell_type": "code",
   "execution_count": null,
   "id": "spanish-hungarian",
   "metadata": {},
   "outputs": [],
   "source": [
    "def get_predictions(summaries, test_set):\n",
    "    predictions = []\n",
    "    for i in range(len(test_set)):\n",
    "        result = predict(summaries, test_set[i])\n",
    "        predictions.append(result)\n",
    "    return predictions"
   ]
  },
  {
   "cell_type": "markdown",
   "id": "marine-helping",
   "metadata": {},
   "source": [
    "## Test the algorithm"
   ]
  },
  {
   "cell_type": "markdown",
   "id": "civilian-command",
   "metadata": {},
   "source": [
    "### Load and split data"
   ]
  },
  {
   "cell_type": "code",
   "execution_count": null,
   "id": "accessible-evaluation",
   "metadata": {},
   "outputs": [],
   "source": [
    "dataset, target = load_dataset(\"data/banknote.csv\")\n",
    "train_x, train_y, test_x, actual = split_dataset(dataset, target, 0.8)\n",
    "print(f\"Training set size: {len(train_x)}, Testing set size: {len(test_x)}\")"
   ]
  },
  {
   "cell_type": "markdown",
   "id": "manual-argument",
   "metadata": {},
   "source": [
    "### Using self-implementation"
   ]
  },
  {
   "cell_type": "code",
   "execution_count": null,
   "id": "detailed-appointment",
   "metadata": {},
   "outputs": [],
   "source": [
    "# prepare model\n",
    "summaries = summarize_by_class(train_x, train_y)\n",
    "# test model\n",
    "predictions = get_predictions(summaries, test_x)\n",
    "display(actual, predictions)"
   ]
  },
  {
   "cell_type": "markdown",
   "id": "rubber-tsunami",
   "metadata": {},
   "source": [
    "### Using scikit-learn"
   ]
  },
  {
   "cell_type": "code",
   "execution_count": null,
   "id": "english-consumption",
   "metadata": {},
   "outputs": [],
   "source": [
    "gnb = GaussianNB()\n",
    "y_pred = gnb.fit(train_x, train_y).predict(test_x)\n",
    "display(actual, y_pred)"
   ]
  }
 ],
 "metadata": {
  "kernelspec": {
   "display_name": "Python 3",
   "language": "python",
   "name": "python3"
  },
  "language_info": {
   "codemirror_mode": {
    "name": "ipython",
    "version": 3
   },
   "file_extension": ".py",
   "mimetype": "text/x-python",
   "name": "python",
   "nbconvert_exporter": "python",
   "pygments_lexer": "ipython3",
   "version": "3.8.6"
  }
 },
 "nbformat": 4,
 "nbformat_minor": 5
}
